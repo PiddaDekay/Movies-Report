{
 "cells": [
  {
   "cell_type": "markdown",
   "metadata": {},
   "source": [
    "# Report - Movies"
   ]
  },
  {
   "cell_type": "code",
   "execution_count": 1,
   "metadata": {},
   "outputs": [],
   "source": [
    "# Preparation for pandas and NumPy\n",
    "import numpy as np\n",
    "import pandas as pd\n",
    "import heapq\n",
    "from pandas import DataFrame, Series\n",
    "\n",
    "# Set some pandas options\n",
    "pd.set_option('display.notebook_repr_html', False)\n",
    "pd.set_option('display.max_rows', 60)\n",
    "pd.set_option('display.max_columns', 60)\n",
    "pd.set_option('display.width', 500)\n",
    "\n",
    "# Preparation for matplotlib\n",
    "%matplotlib inline "
   ]
  },
  {
   "cell_type": "code",
   "execution_count": 2,
   "metadata": {
    "scrolled": true
   },
   "outputs": [],
   "source": [
    "movies = pd.read_csv(\"movies.csv\")"
   ]
  },
  {
   "cell_type": "markdown",
   "metadata": {},
   "source": [
    "# 1.Objective of the Proposed Research: "
   ]
  },
  {
   "cell_type": "markdown",
   "metadata": {},
   "source": [
    "Is the movie industry dying? is Netflix the new entertainment king? Those were the first questions that lead me to create a dataset focused on movie revenue and analyze it over the last decades. But, why stop there? There are more factors that intervene in this kind of thing, like actors, genres, user ratings and more. And now, anyone with experience (you) can ask specific questions about the movie industry, and get answers."
   ]
  },
  {
   "cell_type": "markdown",
   "metadata": {},
   "source": [
    "Steven Spielberg wants to produce a new movie for the summer, and hired you to help him understand the characteristics of the movies in the last 30 years, for an informed decision regarding the genre, director, etc.<br>"
   ]
  },
  {
   "cell_type": "markdown",
   "metadata": {},
   "source": [
    "My objective is to help him find the most suitable genre, director, star, writer and rating, based on the score and profit.<br>\n",
    "Finally, based on the trends of different genre, i will look for a proper genre that has the greatest potential business values and fitting the trends of genre."
   ]
  },
  {
   "cell_type": "markdown",
   "metadata": {},
   "source": [
    "# 2.Data Exploration:"
   ]
  },
  {
   "cell_type": "markdown",
   "metadata": {},
   "source": [
    "## 1) Show structure and information of the dataset"
   ]
  },
  {
   "cell_type": "code",
   "execution_count": 3,
   "metadata": {
    "scrolled": true
   },
   "outputs": [
    {
     "name": "stdout",
     "output_type": "stream",
     "text": [
      "<class 'pandas.core.frame.DataFrame'>\n",
      "RangeIndex: 6820 entries, 0 to 6819\n",
      "Data columns (total 15 columns):\n",
      " #   Column    Non-Null Count  Dtype  \n",
      "---  ------    --------------  -----  \n",
      " 0   budget    6820 non-null   float64\n",
      " 1   company   6820 non-null   object \n",
      " 2   country   6820 non-null   object \n",
      " 3   director  6820 non-null   object \n",
      " 4   genre     6820 non-null   object \n",
      " 5   gross     6820 non-null   float64\n",
      " 6   name      6820 non-null   object \n",
      " 7   rating    6820 non-null   object \n",
      " 8   released  6820 non-null   object \n",
      " 9   runtime   6820 non-null   int64  \n",
      " 10  score     6820 non-null   float64\n",
      " 11  star      6820 non-null   object \n",
      " 12  votes     6820 non-null   int64  \n",
      " 13  writer    6820 non-null   object \n",
      " 14  year      6820 non-null   int64  \n",
      "dtypes: float64(3), int64(3), object(9)\n",
      "memory usage: 799.3+ KB\n"
     ]
    }
   ],
   "source": [
    "movies.info()"
   ]
  },
  {
   "cell_type": "markdown",
   "metadata": {},
   "source": [
    "### We have 6820 rows and 15 columns."
   ]
  },
  {
   "cell_type": "markdown",
   "metadata": {},
   "source": [
    "## 2) Show first 5 rows and last 5 rows of dataset"
   ]
  },
  {
   "cell_type": "code",
   "execution_count": 4,
   "metadata": {
    "scrolled": true
   },
   "outputs": [
    {
     "data": {
      "text/plain": [
       "       budget                                 company country        director      genre        gross                      name rating    released  runtime  score               star   votes         writer  year\n",
       "0   8000000.0           Columbia Pictures Corporation     USA      Rob Reiner  Adventure   52287414.0               Stand by Me      R  1986-08-22       89    8.1        Wil Wheaton  299174   Stephen King  1986\n",
       "1   6000000.0                      Paramount Pictures     USA     John Hughes     Comedy   70136369.0  Ferris Bueller's Day Off  PG-13  1986-06-11      103    7.8  Matthew Broderick  264740    John Hughes  1986\n",
       "2  15000000.0                      Paramount Pictures     USA      Tony Scott     Action  179800601.0                   Top Gun     PG  1986-05-16      110    6.9         Tom Cruise  236909       Jim Cash  1986\n",
       "3  18500000.0  Twentieth Century Fox Film Corporation     USA   James Cameron     Action   85160248.0                    Aliens      R  1986-07-18      137    8.4   Sigourney Weaver  540152  James Cameron  1986\n",
       "4   9000000.0                    Walt Disney Pictures     USA  Randal Kleiser  Adventure   18564613.0   Flight of the Navigator     PG  1986-08-01       90    6.9        Joey Cramer   36636  Mark H. Baker  1986"
      ]
     },
     "execution_count": 4,
     "metadata": {},
     "output_type": "execute_result"
    }
   ],
   "source": [
    "movies.head(5)"
   ]
  },
  {
   "cell_type": "code",
   "execution_count": 5,
   "metadata": {
    "scrolled": true
   },
   "outputs": [
    {
     "data": {
      "text/plain": [
       "         budget                    company country         director      genre      gross                            name rating    released  runtime  score               star  votes             writer  year\n",
       "6815        0.0   Fox Searchlight Pictures      UK  Mandie Fletcher     Comedy  4750497.0  Absolutely Fabulous: The Movie      R  2016-07-22       91    5.4  Jennifer Saunders   9161  Jennifer Saunders  2016\n",
       "6816        0.0   Siempre Viva Productions     USA   Paul Duddridge      Drama    28368.0           Mothers and Daughters  PG-13  2016-05-06       90    4.9        Selma Blair   1959      Paige Cameron  2016\n",
       "6817  3500000.0     Warner Bros. Animation     USA          Sam Liu  Animation  3775000.0        Batman: The Killing Joke      R  2016-07-25       76    6.5       Kevin Conroy  36333    Brian Azzarello  2016\n",
       "6818        0.0        Borderline Presents     USA    Nicolas Pesce      Drama    25981.0           The Eyes of My Mother      R  2016-12-02       76    6.2     Kika Magalhães   6947      Nicolas Pesce  2016\n",
       "6819        0.0  Les Productions du Trésor  France    Nicole Garcia      Drama    37757.0       From the Land of the Moon      R  2017-07-28      120    6.7   Marion Cotillard   2411        Milena Agus  2016"
      ]
     },
     "execution_count": 5,
     "metadata": {},
     "output_type": "execute_result"
    }
   ],
   "source": [
    "movies.tail(5)"
   ]
  },
  {
   "cell_type": "markdown",
   "metadata": {},
   "source": [
    "### Looks like the year is 1986 - 2016"
   ]
  },
  {
   "cell_type": "markdown",
   "metadata": {},
   "source": [
    "## 3) Let's take look at how many different genres in the dataset"
   ]
  },
  {
   "cell_type": "code",
   "execution_count": 6,
   "metadata": {},
   "outputs": [],
   "source": [
    "dgenre = movies.groupby(\"genre\")"
   ]
  },
  {
   "cell_type": "code",
   "execution_count": 7,
   "metadata": {
    "scrolled": false
   },
   "outputs": [
    {
     "data": {
      "text/plain": [
       "genre\n",
       "Action       1331\n",
       "Adventure     392\n",
       "Animation     277\n",
       "Biography     359\n",
       "Comedy       2080\n",
       "Crime         522\n",
       "Drama        1444\n",
       "Family         14\n",
       "Fantasy        32\n",
       "Horror        277\n",
       "Musical         4\n",
       "Mystery        38\n",
       "Romance        15\n",
       "Sci-Fi         13\n",
       "Thriller       18\n",
       "War             2\n",
       "Western         2\n",
       "dtype: int64"
      ]
     },
     "execution_count": 7,
     "metadata": {},
     "output_type": "execute_result"
    }
   ],
   "source": [
    "dgenre.size()"
   ]
  },
  {
   "cell_type": "markdown",
   "metadata": {},
   "source": [
    "### Looks like Comedy, Action, Drama movies have been recorded in dataset, and maybe people are more interested with these 3 genres."
   ]
  },
  {
   "cell_type": "markdown",
   "metadata": {},
   "source": [
    "## 4) Let's take look at how many different ratings in the dataset"
   ]
  },
  {
   "cell_type": "code",
   "execution_count": 8,
   "metadata": {
    "scrolled": true
   },
   "outputs": [
    {
     "data": {
      "text/plain": [
       "rating\n",
       "B                   1\n",
       "B15                 1\n",
       "G                 147\n",
       "NC-17              22\n",
       "NOT RATED         174\n",
       "Not specified      63\n",
       "PG                951\n",
       "PG-13            1995\n",
       "R                3392\n",
       "TV-14               1\n",
       "TV-MA               1\n",
       "TV-PG               1\n",
       "UNRATED            71\n",
       "dtype: int64"
      ]
     },
     "execution_count": 8,
     "metadata": {},
     "output_type": "execute_result"
    }
   ],
   "source": [
    "drating = movies.groupby(\"rating\")\n",
    "drating.size()"
   ]
  },
  {
   "cell_type": "markdown",
   "metadata": {},
   "source": [
    "### Looks like R, PG-13, PG are the most suitable for global favor."
   ]
  },
  {
   "cell_type": "markdown",
   "metadata": {},
   "source": [
    "# 3.Subsets of Data:"
   ]
  },
  {
   "cell_type": "markdown",
   "metadata": {},
   "source": [
    "## 1) Select only genre, star, writer, year and rating columns, and filt dataset by gross >= average, then sort dataset by scores"
   ]
  },
  {
   "cell_type": "code",
   "execution_count": 9,
   "metadata": {},
   "outputs": [],
   "source": [
    "n1_movies = movies.loc[:,[\"genre\",\"star\",\"director\",\"writer\",\"rating\",\"score\",\"year\",\"gross\"]]\n",
    "n_movies = n1_movies[n1_movies[\"gross\"].values >= np.mean(n1_movies[\"gross\"])]\n",
    "ns_movies = n_movies.sort_values(by = \"score\", ascending = False)"
   ]
  },
  {
   "cell_type": "code",
   "execution_count": 10,
   "metadata": {
    "scrolled": true
   },
   "outputs": [
    {
     "data": {
      "text/plain": [
       "          genre               star           director             writer rating  score  year        gross\n",
       "4840     Action     Christian Bale  Christopher Nolan     Jonathan Nolan  PG-13    9.0  2008  534858444.0\n",
       "3743  Adventure        Elijah Wood      Peter Jackson     J.R.R. Tolkien  PG-13    8.9  2003  377845905.0\n",
       "1542  Biography        Liam Neeson   Steven Spielberg    Thomas Keneally      R    8.9  1993   96067179.0\n",
       "1761      Crime      John Travolta  Quentin Tarantino  Quentin Tarantino      R    8.9  1994  107928762.0\n",
       "5280     Action  Leonardo DiCaprio  Christopher Nolan  Christopher Nolan  PG-13    8.8  2010  292576195.0"
      ]
     },
     "execution_count": 10,
     "metadata": {},
     "output_type": "execute_result"
    }
   ],
   "source": [
    "ns_movies.head(5)"
   ]
  },
  {
   "cell_type": "markdown",
   "metadata": {},
   "source": [
    "### The top 5 movies in the past 30 years are shown above, base on score"
   ]
  },
  {
   "cell_type": "code",
   "execution_count": 11,
   "metadata": {},
   "outputs": [],
   "source": [
    "#take a look at what components contribute the best and the most successful movies mostly\n",
    "ns_g = ns_movies.groupby(\"genre\")\n",
    "ns_s = ns_movies.groupby(\"star\")\n",
    "ns_d = ns_movies.groupby(\"director\")\n",
    "ns_w = ns_movies.groupby(\"writer\")\n",
    "ns_r = ns_movies.groupby(\"rating\")"
   ]
  },
  {
   "cell_type": "code",
   "execution_count": 12,
   "metadata": {
    "scrolled": true
   },
   "outputs": [
    {
     "data": {
      "text/plain": [
       "genre\n",
       "Action    595\n",
       "Comedy    536\n",
       "Drama     239\n",
       "dtype: int64"
      ]
     },
     "execution_count": 12,
     "metadata": {},
     "output_type": "execute_result"
    }
   ],
   "source": [
    "g = ns_g.size().sort_values(ascending = False)\n",
    "g.head(3)"
   ]
  },
  {
   "cell_type": "code",
   "execution_count": 13,
   "metadata": {},
   "outputs": [
    {
     "data": {
      "image/png": "[encoded data removed]",
      "text/plain": [
       "<Figure size 3600x576 with 1 Axes>"
      ]
     },
     "metadata": {},
     "output_type": "display_data"
    }
   ],
   "source": [
    "import matplotlib.mlab as mlab  \n",
    "import matplotlib.pyplot as plt  \n",
    "plt.figure(figsize=(50, 8))\n",
    "labels = g.index\n",
    "numbe = g.values\n",
    "plt.pie(numbe,labels = labels,autopct='%1.0f%%')\n",
    "plt.legend()\n",
    "plt.legend(loc=\"center\")\n",
    "plt.title(\"portion of different genres\")\n",
    "plt.show() "
   ]
  },
  {
   "cell_type": "markdown",
   "metadata": {},
   "source": [
    "### As for genre, we can see that Action and Comedy then Drama are the best genre"
   ]
  },
  {
   "cell_type": "code",
   "execution_count": 14,
   "metadata": {
    "scrolled": false
   },
   "outputs": [
    {
     "data": {
      "text/plain": [
       "star\n",
       "Tom Hanks            29\n",
       "Tom Cruise           25\n",
       "Denzel Washington    24\n",
       "dtype: int64"
      ]
     },
     "execution_count": 14,
     "metadata": {},
     "output_type": "execute_result"
    }
   ],
   "source": [
    "s = ns_s.size().sort_values(ascending = False)\n",
    "s.head(3)"
   ]
  },
  {
   "cell_type": "markdown",
   "metadata": {},
   "source": [
    "### As for star, we can see that Leonardo Tom Hanks, Tom Cruise, Denzel Washington are the most suitable stars"
   ]
  },
  {
   "cell_type": "code",
   "execution_count": 15,
   "metadata": {
    "scrolled": true
   },
   "outputs": [
    {
     "data": {
      "text/plain": [
       "director\n",
       "Steven Spielberg    20\n",
       "Tim Burton          15\n",
       "Ron Howard          15\n",
       "dtype: int64"
      ]
     },
     "execution_count": 15,
     "metadata": {},
     "output_type": "execute_result"
    }
   ],
   "source": [
    "d = ns_d.size().sort_values(ascending = False)\n",
    "d.head(3)"
   ]
  },
  {
   "cell_type": "markdown",
   "metadata": {},
   "source": [
    "### As for director, we can see that Steven Spielberg, Tim Burton,  Ron Howard are the most suitable directors"
   ]
  },
  {
   "cell_type": "code",
   "execution_count": 16,
   "metadata": {},
   "outputs": [
    {
     "data": {
      "text/plain": [
       "writer\n",
       "John Hughes           12\n",
       "Tyler Perry           11\n",
       "M. Night Shyamalan     9\n",
       "dtype: int64"
      ]
     },
     "execution_count": 16,
     "metadata": {},
     "output_type": "execute_result"
    }
   ],
   "source": [
    "w = ns_w.size().sort_values(ascending = False)\n",
    "w.head(3)"
   ]
  },
  {
   "cell_type": "markdown",
   "metadata": {},
   "source": [
    "### As for writer, we can see that John Hughes, Tyler Perry and M. Night Shyamalan are the most suitable writers"
   ]
  },
  {
   "cell_type": "code",
   "execution_count": 17,
   "metadata": {},
   "outputs": [
    {
     "data": {
      "text/plain": [
       "rating\n",
       "PG-13    864\n",
       "R        655\n",
       "PG       400\n",
       "dtype: int64"
      ]
     },
     "execution_count": 17,
     "metadata": {},
     "output_type": "execute_result"
    }
   ],
   "source": [
    "r = ns_r.size().sort_values(ascending = False)\n",
    "r.head(3)"
   ]
  },
  {
   "cell_type": "markdown",
   "metadata": {},
   "source": [
    "### As for ratings, we can see that PG-13 is way better than others"
   ]
  },
  {
   "cell_type": "markdown",
   "metadata": {},
   "source": [
    "## 2) Let's turn to another side - gross"
   ]
  },
  {
   "cell_type": "code",
   "execution_count": 18,
   "metadata": {},
   "outputs": [],
   "source": [
    "# sort dataset by gross\n",
    "ng_movies = n_movies.sort_values(by = \"gross\", ascending = False)"
   ]
  },
  {
   "cell_type": "code",
   "execution_count": 19,
   "metadata": {
    "scrolled": true
   },
   "outputs": [
    {
     "data": {
      "text/plain": [
       "       genre               star         director           writer rating  score  year        gross\n",
       "6380  Action       Daisy Ridley      J.J. Abrams  Lawrence Kasdan  PG-13    8.1  2015  936662225.0\n",
       "5061  Action    Sam Worthington    James Cameron    James Cameron  PG-13    7.8  2009  760507625.0\n",
       "2420   Drama  Leonardo DiCaprio    James Cameron    James Cameron  PG-13    7.8  1997  658672302.0\n",
       "6391  Action        Chris Pratt  Colin Trevorrow       Rick Jaffa  PG-13    7.0  2015  652270625.0\n",
       "5723  Action  Robert Downey Jr.      Joss Whedon      Joss Whedon  PG-13    8.1  2012  623357910.0"
      ]
     },
     "execution_count": 19,
     "metadata": {},
     "output_type": "execute_result"
    }
   ],
   "source": [
    "ng_movies.head(5)"
   ]
  },
  {
   "cell_type": "markdown",
   "metadata": {},
   "source": [
    "We can straightforwardly get that based on the gross, the best choices of genre is : **Action**<br> \n",
    "of star are : **Daisy Ridley, Robert Downey Jr., Sam Worthington, Leonardo DiCaprio and Chris Pratt** <br> \n",
    "of director are : **J.J. Abrams, James Cameron, Colin Trevorrow and Joss Whedon**<br>\n",
    "of writer are : **Lawrence Kasdan, James Cameron, Rick Jaffa and Joss Whedon**<br>\n",
    "of rating are : **PG-13**"
   ]
  },
  {
   "cell_type": "markdown",
   "metadata": {},
   "source": [
    "## 3) Now we focus on one of top 3 genre - Drama"
   ]
  },
  {
   "cell_type": "code",
   "execution_count": 20,
   "metadata": {},
   "outputs": [],
   "source": [
    "drama_movies = n_movies[n_movies[\"genre\"]==\"Drama\"]"
   ]
  },
  {
   "cell_type": "code",
   "execution_count": 21,
   "metadata": {},
   "outputs": [
    {
     "data": {
      "text/plain": [
       "     genre            star          director             writer rating  score  year        gross\n",
       "5    Drama   Charlie Sheen      Oliver Stone       Oliver Stone      R    8.1  1986  138530565.0\n",
       "9    Drama   Jeff Goldblum  David Cronenberg   George Langelaan      R    7.5  1986   40456565.0\n",
       "34   Drama     Paul Newman   Martin Scorsese       Walter Tevis      R    7.0  1986   52293982.0\n",
       "222  Drama  Matthew Modine   Stanley Kubrick     Gustav Hasford      R    8.3  1987   46357676.0\n",
       "223  Drama  Patrick Swayze    Emile Ardolino  Eleanor Bergstein  PG-13    6.9  1987   63952836.0"
      ]
     },
     "execution_count": 21,
     "metadata": {},
     "output_type": "execute_result"
    }
   ],
   "source": [
    "drama_movies.head(5)"
   ]
  },
  {
   "cell_type": "markdown",
   "metadata": {},
   "source": [
    "### Check if those great stars, directors and writers had the experience in drama movies"
   ]
  },
  {
   "cell_type": "code",
   "execution_count": 22,
   "metadata": {},
   "outputs": [
    {
     "name": "stdout",
     "output_type": "stream",
     "text": [
      "False False False True False\n"
     ]
    }
   ],
   "source": [
    "print(\"Daisy Ridley\" in drama_movies.star.values,\"Robert Downey Jr.\" in drama_movies.star.values,\"Sam Worthington\" in drama_movies.star.values,\"Leonardo DiCaprio\" in drama_movies.star.values,\"Chris Pratt\" in drama_movies.star.values )"
   ]
  },
  {
   "cell_type": "code",
   "execution_count": 23,
   "metadata": {},
   "outputs": [
    {
     "name": "stdout",
     "output_type": "stream",
     "text": [
      "False True False False\n"
     ]
    }
   ],
   "source": [
    "print(\"J.J. Abrams\" in drama_movies.director.values,\"James Cameron\" in drama_movies.director.values,\"Colin Trevorrow\" in drama_movies.director.values,\"Joss Whedon\" in drama_movies.director.values)"
   ]
  },
  {
   "cell_type": "code",
   "execution_count": 24,
   "metadata": {},
   "outputs": [
    {
     "name": "stdout",
     "output_type": "stream",
     "text": [
      "False True False False\n"
     ]
    }
   ],
   "source": [
    "print(\"Lawrence Kasdan\" in drama_movies.writer.values,\"James Cameron\" in drama_movies.writer.values,\"Rick Jaffa\" in drama_movies.writer.values,\"Joss Whedon\" in drama_movies.writer.values)"
   ]
  },
  {
   "cell_type": "markdown",
   "metadata": {},
   "source": [
    "As a conclusion, if we have to create a **drama movie**, we need to hire **Leonardo DiCaprio as a star**, **James Cameron as a director** and **James Cameron as a writer**!"
   ]
  },
  {
   "cell_type": "markdown",
   "metadata": {},
   "source": [
    "## 4) Comedy movies"
   ]
  },
  {
   "cell_type": "code",
   "execution_count": 25,
   "metadata": {},
   "outputs": [],
   "source": [
    "comedy_movies = n_movies[n_movies[\"genre\"]==\"Comedy\"]"
   ]
  },
  {
   "cell_type": "code",
   "execution_count": 26,
   "metadata": {
    "scrolled": true
   },
   "outputs": [
    {
     "data": {
      "text/plain": [
       "     genre                star       director              writer rating  score  year       gross\n",
       "1   Comedy   Matthew Broderick    John Hughes         John Hughes  PG-13    7.8  1986  70136369.0\n",
       "8   Comedy      Molly Ringwald  Howard Deutch         John Hughes  PG-13    6.8  1986  40471663.0\n",
       "17  Comedy        Rick Moranis       Frank Oz       Howard Ashman  PG-13    6.9  1986  38747385.0\n",
       "21  Comedy  Rodney Dangerfield    Alan Metter  Rodney Dangerfield  PG-13    6.6  1986  91258000.0\n",
       "25  Comedy         Ally Sheedy    John Badham         S.S. Wilson     PG    6.6  1986  40697761.0"
      ]
     },
     "execution_count": 26,
     "metadata": {},
     "output_type": "execute_result"
    }
   ],
   "source": [
    "comedy_movies.head(5)"
   ]
  },
  {
   "cell_type": "markdown",
   "metadata": {},
   "source": [
    "### Check if those great stars, directors and writers had the experience in crime movies"
   ]
  },
  {
   "cell_type": "code",
   "execution_count": 27,
   "metadata": {},
   "outputs": [
    {
     "name": "stdout",
     "output_type": "stream",
     "text": [
      "False True False False False\n"
     ]
    }
   ],
   "source": [
    "print(\"Daisy Ridley\" in comedy_movies.star.values,\"Robert Downey Jr.\" in comedy_movies.star.values,\"Sam Worthington\" in comedy_movies.star.values,\"Leonardo DiCaprio\" in comedy_movies.star.values,\"Chris Pratt\" in comedy_movies.star.values )"
   ]
  },
  {
   "cell_type": "code",
   "execution_count": 28,
   "metadata": {},
   "outputs": [
    {
     "name": "stdout",
     "output_type": "stream",
     "text": [
      "False False False False\n"
     ]
    }
   ],
   "source": [
    "print(\"J.J. Abrams\" in comedy_movies.director.values,\"James Cameron\" in comedy_movies.director.values,\"Colin Trevorrow\" in comedy_movies.director.values,\"Joss Whedon\" in comedy_movies.director.values)"
   ]
  },
  {
   "cell_type": "code",
   "execution_count": 29,
   "metadata": {},
   "outputs": [
    {
     "name": "stdout",
     "output_type": "stream",
     "text": [
      "False False False False\n"
     ]
    }
   ],
   "source": [
    "print(\"Lawrence Kasdan\" in comedy_movies.writer.values,\"James Cameron\" in comedy_movies.writer.values,\"Rick Jaffa\" in comedy_movies.writer.values,\"Joss Whedon\" in comedy_movies.writer.values)"
   ]
  },
  {
   "cell_type": "markdown",
   "metadata": {},
   "source": [
    "As a conclusion, if we have to create a **comedy movie**, we need to hire **Robert Downey Jr.**, and as for **director and writer**, there is **no guarantee and past experience**"
   ]
  },
  {
   "cell_type": "markdown",
   "metadata": {},
   "source": [
    "## 5) Action movies"
   ]
  },
  {
   "cell_type": "code",
   "execution_count": 30,
   "metadata": {},
   "outputs": [],
   "source": [
    "action_movies = n_movies[n_movies[\"genre\"]==\"Action\"]"
   ]
  },
  {
   "cell_type": "code",
   "execution_count": 31,
   "metadata": {
    "scrolled": true
   },
   "outputs": [
    {
     "data": {
      "text/plain": [
       "     genre                star            director            writer rating  score  year        gross\n",
       "2   Action          Tom Cruise          Tony Scott          Jim Cash     PG    6.9  1986  179800601.0\n",
       "3   Action    Sigourney Weaver       James Cameron     James Cameron      R    8.4  1986   85160248.0\n",
       "23  Action      Clint Eastwood      Clint Eastwood  James Carabatsos      R    6.8  1986   42724017.0\n",
       "28  Action        Eddie Murphy     Michael Ritchie    Dennis Feldman  PG-13    5.9  1986   79817937.0\n",
       "31  Action  Sylvester Stallone  George P. Cosmatos     Paula Gosling      R    5.7  1986   49042224.0"
      ]
     },
     "execution_count": 31,
     "metadata": {},
     "output_type": "execute_result"
    }
   ],
   "source": [
    "action_movies.head(5)"
   ]
  },
  {
   "cell_type": "markdown",
   "metadata": {},
   "source": [
    "### Check if those great stars, directors and writers had the experience in action movies"
   ]
  },
  {
   "cell_type": "code",
   "execution_count": 32,
   "metadata": {},
   "outputs": [
    {
     "name": "stdout",
     "output_type": "stream",
     "text": [
      "True True True True True\n"
     ]
    }
   ],
   "source": [
    "print(\"Daisy Ridley\" in action_movies.star.values,\"Robert Downey Jr.\" in action_movies.star.values,\"Sam Worthington\" in action_movies.star.values,\"Leonardo DiCaprio\" in action_movies.star.values,\"Chris Pratt\" in action_movies.star.values )"
   ]
  },
  {
   "cell_type": "code",
   "execution_count": 33,
   "metadata": {},
   "outputs": [
    {
     "name": "stdout",
     "output_type": "stream",
     "text": [
      "True True True True\n"
     ]
    }
   ],
   "source": [
    "print(\"J.J. Abrams\" in action_movies.director.values,\"James Cameron\" in action_movies.director.values,\"Colin Trevorrow\" in action_movies.director.values,\"Joss Whedon\" in action_movies.director.values)"
   ]
  },
  {
   "cell_type": "code",
   "execution_count": 34,
   "metadata": {},
   "outputs": [
    {
     "name": "stdout",
     "output_type": "stream",
     "text": [
      "True True True True\n"
     ]
    }
   ],
   "source": [
    "print(\"Lawrence Kasdan\" in action_movies.writer.values,\"James Cameron\" in action_movies.writer.values,\"Rick Jaffa\" in action_movies.writer.values,\"Joss Whedon\" in action_movies.writer.values)"
   ]
  },
  {
   "cell_type": "markdown",
   "metadata": {},
   "source": [
    "As for **action movies**, we have many choices.<br>\n",
    "For **actors and stars**, we can hire **Daisy Ridley,Robert Downey Jr., Sam Worthington, Leonardo DiCaprio and Chris Pratt**.<br>\n",
    "For **director**, we can hire **J.J. Abrams, James Cameron, Colin Trevorrow and Joss Whedon**.<br>\n",
    "For **writer**, we can hire **Lawrence Kasdan, James Cameron, Rick Jaffa and Joss Whedon**"
   ]
  },
  {
   "cell_type": "markdown",
   "metadata": {},
   "source": [
    "## Now compare their averages of gross and score"
   ]
  },
  {
   "cell_type": "code",
   "execution_count": 38,
   "metadata": {},
   "outputs": [
    {
     "data": {
      "text/plain": [
       "75456962.11297071"
      ]
     },
     "execution_count": 38,
     "metadata": {},
     "output_type": "execute_result"
    }
   ],
   "source": [
    "np.mean(drama_movies.gross)"
   ]
  },
  {
   "cell_type": "code",
   "execution_count": 39,
   "metadata": {},
   "outputs": [
    {
     "data": {
      "text/plain": [
       "6.8836820083682015"
      ]
     },
     "execution_count": 39,
     "metadata": {},
     "output_type": "execute_result"
    }
   ],
   "source": [
    "np.mean(drama_movies.score)"
   ]
  },
  {
   "cell_type": "code",
   "execution_count": 40,
   "metadata": {},
   "outputs": [
    {
     "data": {
      "text/plain": [
       "74830194.69216418"
      ]
     },
     "execution_count": 40,
     "metadata": {},
     "output_type": "execute_result"
    }
   ],
   "source": [
    "np.mean(comedy_movies.gross)"
   ]
  },
  {
   "cell_type": "code",
   "execution_count": 41,
   "metadata": {},
   "outputs": [
    {
     "data": {
      "text/plain": [
       "6.211194029850745"
      ]
     },
     "execution_count": 41,
     "metadata": {},
     "output_type": "execute_result"
    }
   ],
   "source": [
    "np.mean(comedy_movies.score)"
   ]
  },
  {
   "cell_type": "code",
   "execution_count": 42,
   "metadata": {},
   "outputs": [
    {
     "data": {
      "text/plain": [
       "111911762.36974789"
      ]
     },
     "execution_count": 42,
     "metadata": {},
     "output_type": "execute_result"
    }
   ],
   "source": [
    "np.mean(action_movies.gross)"
   ]
  },
  {
   "cell_type": "code",
   "execution_count": 43,
   "metadata": {},
   "outputs": [
    {
     "data": {
      "text/plain": [
       "6.463361344537814"
      ]
     },
     "execution_count": 43,
     "metadata": {},
     "output_type": "execute_result"
    }
   ],
   "source": [
    "np.mean(action_movies.score)"
   ]
  },
  {
   "cell_type": "markdown",
   "metadata": {},
   "source": [
    "## In the conclusion, action movies have the largest gross, and nice score."
   ]
  },
  {
   "cell_type": "markdown",
   "metadata": {},
   "source": [
    "# 4.Visualization: "
   ]
  },
  {
   "cell_type": "markdown",
   "metadata": {},
   "source": [
    "## 1) Let's see the gross of drama movies, crime movies and action movies"
   ]
  },
  {
   "cell_type": "code",
   "execution_count": 50,
   "metadata": {
    "scrolled": true
   },
   "outputs": [
    {
     "data": {
      "image/png": "[encoded data removed]",
      "text/plain": [
       "<Figure size 432x288 with 1 Axes>"
      ]
     },
     "metadata": {
      "needs_background": "light"
     },
     "output_type": "display_data"
    }
   ],
   "source": [
    "import matplotlib.pyplot as plt\n",
    "import matplotlib\n",
    "plt.scatter(drama_movies.year, drama_movies.gross)\n",
    "plt.scatter(comedy_movies.year, comedy_movies.gross)\n",
    "plt.scatter(action_movies.year, action_movies.gross)\n",
    "plt.xlabel(\"years\", fontsize=10)\n",
    "plt.ylabel(\"gross\", fontsize=10)\n",
    "plt.title(\"gross in top 3 genres\",fontsize=15)\n",
    "plt.legend([\"Drama\",\"Comedy\",\"Action\"],loc = \"upper left\",fontsize=8)\n",
    "plt.show()"
   ]
  },
  {
   "cell_type": "markdown",
   "metadata": {},
   "source": [
    "### Based on this plot, we can guess and assume that Action movies are the most profitable and popular genre in the future and in the recent years"
   ]
  },
  {
   "cell_type": "markdown",
   "metadata": {},
   "source": [
    "## 2) Let's see the score of drama movies, crime movies and action movies"
   ]
  },
  {
   "cell_type": "code",
   "execution_count": 51,
   "metadata": {},
   "outputs": [
    {
     "data": {
      "image/png": "[encoded data removed]",
      "text/plain": [
       "<Figure size 432x288 with 1 Axes>"
      ]
     },
     "metadata": {
      "needs_background": "light"
     },
     "output_type": "display_data"
    }
   ],
   "source": [
    "plt.scatter(drama_movies.year, drama_movies.score)\n",
    "plt.scatter(comedy_movies.year, comedy_movies.score)\n",
    "plt.scatter(action_movies.year, action_movies.score)\n",
    "plt.xlabel(\"years\", fontsize=10)\n",
    "plt.ylabel(\"score\", fontsize=10)\n",
    "plt.title(\"score in top 3 genres\",fontsize=15)\n",
    "plt.legend([\"Drama\",\"Comedy\",\"Action\"],loc = \"upper left\",fontsize=8)\n",
    "plt.show()"
   ]
  },
  {
   "cell_type": "markdown",
   "metadata": {},
   "source": [
    "### Based on this plot, we can guess and assume that Action movies are the most popular movies in the future and in the recent years"
   ]
  },
  {
   "cell_type": "markdown",
   "metadata": {},
   "source": [
    "## 3) Let take a look at genre portions of all the movies that got score over 8.0"
   ]
  },
  {
   "cell_type": "code",
   "execution_count": 52,
   "metadata": {
    "scrolled": false
   },
   "outputs": [
    {
     "data": {
      "image/png": "[encoded data removed]",
      "text/plain": [
       "<Figure size 3600x576 with 1 Axes>"
      ]
     },
     "metadata": {},
     "output_type": "display_data"
    }
   ],
   "source": [
    "plt.figure(figsize=(50, 8))\n",
    "labels = g.index\n",
    "numbe = g.values\n",
    "plt.pie(numbe,labels = labels,autopct='%1.0f%%')\n",
    "plt.legend()\n",
    "plt.legend(loc=\"center\")\n",
    "plt.title(\"portion of different genres\")\n",
    "plt.show() "
   ]
  },
  {
   "cell_type": "markdown",
   "metadata": {},
   "source": [
    "Look like Action movie is the best choice!"
   ]
  },
  {
   "cell_type": "markdown",
   "metadata": {},
   "source": [
    "## 4) Let's build a new dataset based on both score >= average and gross >= average, then supervise the portions of different genres"
   ]
  },
  {
   "cell_type": "code",
   "execution_count": 53,
   "metadata": {},
   "outputs": [],
   "source": [
    "nf_movies = n_movies[n_movies[\"score\"]>= np.mean(n_movies[\"score\"])]"
   ]
  },
  {
   "cell_type": "code",
   "execution_count": 54,
   "metadata": {},
   "outputs": [],
   "source": [
    "fg = nf_movies.groupby(\"genre\").size()"
   ]
  },
  {
   "cell_type": "code",
   "execution_count": 55,
   "metadata": {
    "scrolled": false
   },
   "outputs": [
    {
     "data": {
      "image/png": "[encoded data removed]",
      "text/plain": [
       "<Figure size 3600x576 with 1 Axes>"
      ]
     },
     "metadata": {},
     "output_type": "display_data"
    }
   ],
   "source": [
    " plt.figure(figsize=(50, 8))\n",
    "labels = fg.index\n",
    "numbe = fg.values\n",
    "plt.pie(numbe,labels=labels,autopct='%1.0f%%')\n",
    "plt.legend()\n",
    "plt.legend(loc=\"center\")\n",
    "plt.title(\"portion of different scores\")\n",
    "plt.show() "
   ]
  },
  {
   "cell_type": "markdown",
   "metadata": {},
   "source": [
    "#### Yes, action movie has the largest average of gross and the largestr average of score"
   ]
  },
  {
   "cell_type": "markdown",
   "metadata": {},
   "source": [
    "# 5.Summary"
   ]
  },
  {
   "cell_type": "markdown",
   "metadata": {},
   "source": [
    "From **No.2 section**, we got that Action, Comedy and Drama have the largest potential market demanded!<br>\n",
    "From **No.3 section**, we got that Action movie is the no.1 priority of producing a new movie, and we also found there has more choices of cast and faculty of action movie.<br>\n",
    "From **No.4 section**, we prove and confirm that action movie has the largest commercial values and requirements in the future based on both gross and score - best gross and great score.<br>\n",
    "The best stars, directors and writers are\n",
    "For **actors and stars**, we can hire **Daisy Ridley,Robert Downey Jr., Sam Worthington, Leonardo DiCaprio and Chris Pratt**.<br>\n",
    "For **director**, we can hire **J.J. Abrams, James Cameron, Colin Trevorrow and Joss Whedon**.<br>\n",
    "For **writer**, we can hire **Lawrence Kasdan, James Cameron, Rick Jaffa and Joss Whedon**\n",
    "These celebrities not only are guarantee to gross, but also have the greatest experience of producing action movies."
   ]
  },
  {
   "cell_type": "markdown",
   "metadata": {},
   "source": [
    "# 6.Recommendations:"
   ]
  },
  {
   "cell_type": "markdown",
   "metadata": {},
   "source": [
    "So, i sincerely recommend that if employers need to produce a new movie for the summer, they should focus on the action movies, and hire some actors and stars like Daisy Ridley,Robert Downey Jr., Sam Worthington, Leonardo DiCaprio and Chris Pratt, hire J.J. Abrams, James Cameron, Colin Trevorrow and Joss Whedon as directors and hire Lawrence Kasdan, James Cameron, Rick Jaffa and Joss Whedon as writers, who has the greatest experience in action movies. And the best rating is PG-13."
   ]
  },
  {
   "cell_type": "code",
   "execution_count": null,
   "metadata": {},
   "outputs": [],
   "source": []
  }
 ],
 "metadata": {
  "kernelspec": {
   "display_name": "Python 3",
   "language": "python",
   "name": "python3"
  },
  "language_info": {
   "codemirror_mode": {
    "name": "ipython",
    "version": 3
   },
   "file_extension": ".py",
   "mimetype": "text/x-python",
   "name": "python",
   "nbconvert_exporter": "python",
   "pygments_lexer": "ipython3",
   "version": "3.6.13"
  }
 },
 "nbformat": 4,
 "nbformat_minor": 2
}
